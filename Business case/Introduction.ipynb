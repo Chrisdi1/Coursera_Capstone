{
    "cells": [
        {
            "metadata": {
                "collapsed": true
            },
            "cell_type": "markdown",
            "source": "# Business Case/Introduction\n    \n   The city of Seattle wants to improve the response of their first responders when a car accident is reported.  It is not feasible for police, EMT and fire to jointly respond to all accidents.  The current procedure is for a police officer to respond and request further assistance according to the severity of the accident.  This often means delay in treatment of the crash victim or victims.      \n\nThe city would like to be able to predict if a reported crash is sever enough to require the response of a severe crash response team (police, fire and EMT).  The Seattle Police 911 is the primary Public Safety Answering Point (PSAP).  The PSAP Severity Collision Model will take into account weather, road condtions, time of the day and location. The model will  provide a prediction on the severity of the accident.  The PSAP will cooridnate with the Seattle Fire Alarm center accordingly.\n\n\n\n\n\n  "
        },
        {
            "metadata": {},
            "cell_type": "code",
            "source": "",
            "execution_count": null,
            "outputs": []
        }
    ],
    "metadata": {
        "kernelspec": {
            "name": "python3",
            "display_name": "Python 3.6",
            "language": "python"
        },
        "language_info": {
            "name": "python",
            "version": "3.6.9",
            "mimetype": "text/x-python",
            "codemirror_mode": {
                "name": "ipython",
                "version": 3
            },
            "pygments_lexer": "ipython3",
            "nbconvert_exporter": "python",
            "file_extension": ".py"
        }
    },
    "nbformat": 4,
    "nbformat_minor": 1
}