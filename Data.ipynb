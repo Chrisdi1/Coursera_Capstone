{
    "cells": [
        {
            "cell_type": "markdown",
            "metadata": {
                "collapsed": true
            },
            "source": "# Data\n"
        },
        {
            "cell_type": "markdown",
            "metadata": {},
            "source": "The Seattle PD documents accidents in the form of vehicle accident reports.  These reports are summarized in a log.  The current accident log is available in .CSV format which makes it convenient as a data set for developing a model. The current dataset is made up of 38 characteristics of 194, 673 accidents.   The data set characteristics vary from administrative data to specific data on the accident.  \n\nThe goal of our model is to predict the severity of the accident.  The data set includes the severity of the accident.  This will be used as our labels.   The severity is represented descriptively in text as we all coded as either 1 -not serve (no bodily injury) or 2 -severe (bodily injury).  Due to possible transcribing error and just the general ease of using numerical values, the coded severity will be used as our labels and the text description will be omitted.  \nAs mentioned previously, our data set also includes administrative data that is not characteristic of the accident.  Data like report number, Object ID, Report status can be removed from our data set.\n\nRedundant data like severity code which appears twice, as well as data that is in text as well as encoded can me reduce to just encoded.  Careful review of the text and encoded data must be done to ensure the coding is adequate.\n\nData that describes the accident but not the environmental conditions that may have lead to the accident can also be deleted.  During the initial data review s the characteristics of the accidents will be required to see if a more detailed severity code can be derived based on characteristics of the accident.\n\nThe conditions that lead to accident can be reduced to weather, road conditions, time of day (night or day light), and location.  Location can be further refined to whether the accident occurred in mid-block intersection or at a driveway junction.  \n\nCharacteristics that contain no data or missing data will be removed.  The data set will need to be balance.  No severe ( code 1) out numbers Severe (code 2) by a ratio of 2.3:1.  A Balanced will be done by both deleting and duplicating.  Models will be creating using a mix of both balancing methods.       \n\n\n"
        },
        {
            "cell_type": "code",
            "execution_count": null,
            "metadata": {},
            "outputs": [],
            "source": ""
        }
    ],
    "metadata": {
        "kernelspec": {
            "display_name": "Python 3.6",
            "language": "python",
            "name": "python3"
        },
        "language_info": {
            "codemirror_mode": {
                "name": "ipython",
                "version": 3
            },
            "file_extension": ".py",
            "mimetype": "text/x-python",
            "name": "python",
            "nbconvert_exporter": "python",
            "pygments_lexer": "ipython3",
            "version": "3.6.9"
        }
    },
    "nbformat": 4,
    "nbformat_minor": 1
}